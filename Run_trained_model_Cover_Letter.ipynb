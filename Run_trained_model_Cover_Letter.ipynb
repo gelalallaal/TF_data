{
  "nbformat": 4,
  "nbformat_minor": 0,
  "metadata": {
    "colab": {
      "provenance": []
    },
    "kernelspec": {
      "name": "python3",
      "display_name": "Python 3"
    },
    "language_info": {
      "name": "python"
    }
  },
  "cells": [
    {
      "cell_type": "markdown",
      "metadata": {
        "id": "f330fe61"
      },
      "source": [
        "# **Cover letter**"
      ]
    },
    {
      "cell_type": "code",
      "execution_count": null,
      "metadata": {
        "id": "a7962523",
        "colab": {
          "base_uri": "https://localhost:8080/"
        },
        "outputId": "72dbd9c4-c734-4fd8-d1c4-43b6336839af"
      },
      "outputs": [
        {
          "output_type": "stream",
          "name": "stdout",
          "text": [
            "Collecting openai\n",
            "  Downloading openai-1.17.1-py3-none-any.whl (268 kB)\n",
            "\u001b[2K     \u001b[90m━━━━━━━━━━━━━━━━━━━━━━━━━━━━━━━━━━━━━━━━\u001b[0m \u001b[32m268.3/268.3 kB\u001b[0m \u001b[31m1.9 MB/s\u001b[0m eta \u001b[36m0:00:00\u001b[0m\n",
            "\u001b[?25hRequirement already satisfied: anyio<5,>=3.5.0 in /usr/local/lib/python3.10/dist-packages (from openai) (3.7.1)\n",
            "Requirement already satisfied: distro<2,>=1.7.0 in /usr/lib/python3/dist-packages (from openai) (1.7.0)\n",
            "Collecting httpx<1,>=0.23.0 (from openai)\n",
            "  Downloading httpx-0.27.0-py3-none-any.whl (75 kB)\n",
            "\u001b[2K     \u001b[90m━━━━━━━━━━━━━━━━━━━━━━━━━━━━━━━━━━━━━━━━\u001b[0m \u001b[32m75.6/75.6 kB\u001b[0m \u001b[31m3.0 MB/s\u001b[0m eta \u001b[36m0:00:00\u001b[0m\n",
            "\u001b[?25hRequirement already satisfied: pydantic<3,>=1.9.0 in /usr/local/lib/python3.10/dist-packages (from openai) (2.6.4)\n",
            "Requirement already satisfied: sniffio in /usr/local/lib/python3.10/dist-packages (from openai) (1.3.1)\n",
            "Requirement already satisfied: tqdm>4 in /usr/local/lib/python3.10/dist-packages (from openai) (4.66.2)\n",
            "Requirement already satisfied: typing-extensions<5,>=4.7 in /usr/local/lib/python3.10/dist-packages (from openai) (4.11.0)\n",
            "Requirement already satisfied: idna>=2.8 in /usr/local/lib/python3.10/dist-packages (from anyio<5,>=3.5.0->openai) (3.6)\n",
            "Requirement already satisfied: exceptiongroup in /usr/local/lib/python3.10/dist-packages (from anyio<5,>=3.5.0->openai) (1.2.0)\n",
            "Requirement already satisfied: certifi in /usr/local/lib/python3.10/dist-packages (from httpx<1,>=0.23.0->openai) (2024.2.2)\n",
            "Collecting httpcore==1.* (from httpx<1,>=0.23.0->openai)\n",
            "  Downloading httpcore-1.0.5-py3-none-any.whl (77 kB)\n",
            "\u001b[2K     \u001b[90m━━━━━━━━━━━━━━━━━━━━━━━━━━━━━━━━━━━━━━━━\u001b[0m \u001b[32m77.9/77.9 kB\u001b[0m \u001b[31m3.2 MB/s\u001b[0m eta \u001b[36m0:00:00\u001b[0m\n",
            "\u001b[?25hCollecting h11<0.15,>=0.13 (from httpcore==1.*->httpx<1,>=0.23.0->openai)\n",
            "  Downloading h11-0.14.0-py3-none-any.whl (58 kB)\n",
            "\u001b[2K     \u001b[90m━━━━━━━━━━━━━━━━━━━━━━━━━━━━━━━━━━━━━━━━\u001b[0m \u001b[32m58.3/58.3 kB\u001b[0m \u001b[31m2.1 MB/s\u001b[0m eta \u001b[36m0:00:00\u001b[0m\n",
            "\u001b[?25hRequirement already satisfied: annotated-types>=0.4.0 in /usr/local/lib/python3.10/dist-packages (from pydantic<3,>=1.9.0->openai) (0.6.0)\n",
            "Requirement already satisfied: pydantic-core==2.16.3 in /usr/local/lib/python3.10/dist-packages (from pydantic<3,>=1.9.0->openai) (2.16.3)\n",
            "Installing collected packages: h11, httpcore, httpx, openai\n",
            "Successfully installed h11-0.14.0 httpcore-1.0.5 httpx-0.27.0 openai-1.17.1\n"
          ]
        }
      ],
      "source": [
        "!pip install openai\n",
        "import numpy as np\n",
        "import pandas as pd\n",
        "import os\n",
        "from openai import OpenAI\n",
        "from transformers import AutoModelForSequenceClassification, AutoTokenizer\n",
        "import torch"
      ]
    },
    {
      "cell_type": "markdown",
      "metadata": {
        "id": "5f7620e9"
      },
      "source": [
        "## BUILD GPT Model\n",
        "\n",
        "cover letters will be inputed and summarised into less than 150 words with key information like\n",
        "1. role category\n",
        "2. skills\n",
        "3. experience level correlated with skill\n",
        "4. significant experiences"
      ]
    },
    {
      "cell_type": "code",
      "execution_count": null,
      "metadata": {
        "id": "b879fe3d"
      },
      "outputs": [],
      "source": [
        "import os\n",
        "\n",
        "os.environ['OPENAI_API_KEY'] = 'REPLACE_THIS_BY_YOUR_API_KEY'\n",
        "\n",
        "# Ensure your OpenAI API key is stored as an environment variable\n",
        "api_key = os.getenv('OPENAI_API_KEY')\n",
        "\n",
        "if api_key is None:\n",
        "    raise ValueError(\"OPENAI_API_KEY is not set in the environment variables.\")\n",
        "\n",
        "client = OpenAI(api_key=api_key)\n",
        "\n",
        "#alt using google collab secret key\n",
        "# from google.colab import userdata\n",
        "# client = OpenAI(api_key=userdata.get('OPENAI_API_KEY'))"
      ]
    },
    {
      "cell_type": "markdown",
      "source": [
        "##prompt function: 'summarise'\n",
        "\n",
        "This function automates the process of analyzing and summarizing cover letters specifically tailored for individuals in the information technology industry.\n",
        "\n",
        "It uses OpenAI's GPT-3.5-turbo model to interpret the content of a cover letter and identify the most fitting technical role.\n",
        "\n",
        "Additionally, it extracts and summarizes the top five relevant skills along with their experience levels and the top three significant professional experiences related to the assigned role.\n",
        "\n",
        "###Parameters:\n",
        "\n",
        "cover_letter (string): The text of the cover letter to be analyzed.\n",
        "Returns:\n",
        "\n",
        "summary (string): A concise summary formatted to include the determined role, top skills with experience levels, and significant professional experiences. The summary is designed to be brief, not exceeding 150 words (~200 tokens).\n",
        "\n",
        "###Operational Details:\n",
        "\n",
        "Role Determination: The function processes the input text to match the cover letter with one appropriate IT-related position.\n",
        "\n",
        "Skill and Experience Extraction:\n",
        "Utilizes natural language processing to identify and rank the top five skills mentioned in the cover letter, assessing the associated experience level for each.\n",
        "\n",
        "Significant Experience Highlighting:\n",
        "Extracts three key professional experiences that are most relevant to the identified role, ensuring these instances are specific and quantifiable.\n",
        "Output Formatting:\n",
        "\n",
        "The output is structured to present the analysis in a clear, easy-to-read format, emphasizing clarity and precision in the summary.\n",
        "\n",
        "####Note:\n",
        "\n",
        "The function assumes that the input cover letter is well-formatted and sufficiently detailed to extract meaningful insights. The quality of the summary may vary with the detail and clarity of the cover letter provided.\n"
      ],
      "metadata": {
        "id": "BKzE854Pd-zt"
      }
    },
    {
      "cell_type": "code",
      "execution_count": null,
      "metadata": {
        "id": "90d11615"
      },
      "outputs": [],
      "source": [
        "def summarise(coverletter, client):\n",
        "    response = client.chat.completions.create(\n",
        "      model=\"gpt-3.5-turbo\",\n",
        "      #instrctions\n",
        "      messages=[\n",
        "        {\"role\": \"system\", \"content\": \"\"\"\n",
        "        You will be provided with a cover letter from an individual in the information technology industry. Your task is to analyze the content of the cover letter and determine which of the following tech roles it best aligns with:\n",
        "        [\"Software Developer\", \"Systems Administrator\", \"Project Manager\", \"Web Developer\", \"Database Administrator\", \"Java Developer\", \"Python Developer\", \"Security Analyst\", \"Network Administrator\"].\n",
        "\n",
        "        Assign only one role from the list provided, based on the skills and experiences mentioned in the cover letter. Then, summarize the top 5 skills and the corresponding experience level, along with the top 3 most significant experiences directly related to the assigned role. Please ensure the summary is concise, not exceeding 150 words in total.\n",
        "\n",
        "        Present your analysis in the following format:\n",
        "        \"Role: [Chosen Role]\n",
        "        Skills and Experience Level:\n",
        "        1. [Skill 1], [Experience Level];\n",
        "        2. [Skill 2], [Experience Level]; ...\n",
        "        Significant Experiences:\n",
        "        1. [Experience 1];\n",
        "        2. [Experience 2]; ...\"\n",
        "\n",
        "        Note: The skills and experiences should be listed in order of relevance and impact as demonstrated in the cover letter. Make sure the experiences are specific and quantifiable, not generic statements. If any skills or experiences do not fit into the specified roles, they should not be included in the summary.\n",
        "        \"\"\"\n",
        "        },\n",
        "        #prompt\n",
        "        {\"role\": \"user\", \"content\":coverletter}\n",
        "      ],\n",
        "      temperature=0.3,    # More deterministic & factual (0.2 ~ 0.5)\n",
        "      max_tokens=200,     # ~150 words\n",
        "      top_p=1,            # Full probability distribution\n",
        "      frequency_penalty=0.5,  # Reduce repetition\n",
        "      presence_penalty=0.5,   # Encourage diversity\n",
        "    )\n",
        "    return response.choices[0].message.content"
      ]
    },
    {
      "cell_type": "markdown",
      "source": [
        "###Example input\n",
        "Dear Hiring Manager,\n",
        "\n",
        "I am writing to express my interest in the Senior Data Scientist position at XYZ Technologies. With over 7 years of experience in the field, I am confident in my ability to contribute to your Data Science & AI CoE and drive innovation in the ATI industry.\n",
        "\n",
        "Throughout my career, I have gained strong expertise in deep learning, CUDA/TensorRT, and modern data compression. I have successfully delivered high-quality research, innovation, and engineering projects on time, always striving for excellence. My hands-on experience with OpenCV, SOD, and other computer vision libraries has allowed me to develop state-of-the-art solutions and integrate computer vision into industrial-level products.\n",
        "\n",
        "I have a strong background in biometrics, machine learning, and deep learning, and I am well-versed in Agile methodologies. My proficiency in machine learning frameworks such as TensorFlow, Keras, Pytorch, and Caffe has enabled me to develop cutting-edge solutions. Additionally, my published research in computer vision, image processing, and machine learning showcases my commitment to advancing the field.\n",
        "\n",
        "With a Master's degree in Computer Science specializing in AI/Computer Vision, I possess a solid foundation in advanced mathematics, image/video processing, computer vision, and AI/machine learning theories.\n",
        "\n",
        "I am excited about the opportunity to join XYZ Technologies and contribute to the company's mission of revolutionizing the ATI industry with Data Science AI Technology. I am eager to learn from and collaborate with the talented data science and engineering community at XYZ Technologies.\n",
        "\n",
        "Thank you for considering my application. I look forward to the possibility of discussing how my skills and qualifications align with your requirements.\n",
        "\n",
        "Sincerely,\n",
        "John Smith\n",
        "\n",
        "\n",
        "\n",
        "###Example output:\n",
        "\n",
        "Role: Senior Data Scientist\n",
        "\n",
        "Skills and Experience Level:\n",
        "1. Deep Learning, Expert;\n",
        "2. Machine Learning Frameworks (TensorFlow, Keras, Pytorch, Caffe), Expert;\n",
        "3. Computer Vision, Expert;\n",
        "4. Agile Methodologies, Advanced;\n",
        "5. Research Publication, Advanced.\n",
        "\n",
        "Significant Experiences:\n",
        "1. Led and delivered multiple high-quality research and engineering projects in deep learning and computer vision.\n",
        "2. Published research in computer vision, image processing, and machine learning.\n",
        "3. Master's degree in Computer Science specializing in AI/Computer Vision."
      ],
      "metadata": {
        "id": "7oWJpIjnzQjO"
      }
    },
    {
      "cell_type": "markdown",
      "metadata": {
        "id": "865abe91"
      },
      "source": [
        "## *input a cv and a cl output the cv's label and cl's summary*"
      ]
    },
    {
      "cell_type": "markdown",
      "metadata": {
        "id": "bd148eec"
      },
      "source": [
        "### input types:\n",
        "test_cv: string / list of strings\n",
        "\n",
        "test_cl: string/ list of strings"
      ]
    },
    {
      "cell_type": "code",
      "execution_count": null,
      "metadata": {
        "id": "927ae30f"
      },
      "outputs": [],
      "source": [
        "from transformers import AutoTokenizer\n",
        "model_ckpt = \"vasu11/distilroberta-base-finetuned-resume2\"\n",
        "tokenizer = AutoTokenizer.from_pretrained(model_ckpt)\n",
        "model = AutoModelForSequenceClassification.from_pretrained(model_ckpt)\n",
        "\n",
        "labels = model.config.id2label\n",
        "\n",
        "\n",
        "def CV_label_CL_Summary(test_cv, test_cl, client):\n",
        "    #####CL summary generator\n",
        "    cl_summary = pd.DataFrame(columns=[\"input\",\"output\"])\n",
        "    if type(test_cl) == str:\n",
        "        test_cl = [test_cl]\n",
        "    cl_summary[\"input\"] = test_cl\n",
        "    for i in range(len(cl_summary)):\n",
        "        input = test_cl[i]\n",
        "        output = summarise(test_cl[i],client)\n",
        "        cl_summary.loc[i] = [input,output]\n",
        "    #####CV label generator\n",
        "    predicted_label = get_predicted_labels(test_cv)\n",
        "\n",
        "    return cl_summary, predicted_labels\n",
        "\n",
        "def get_predicted_labels(text):\n",
        "  if type(text) != str:\n",
        "    text = ' '.join(text)\n",
        "  inputs = tokenizer(text,return_tensors = 'pt')\n",
        "\n",
        "  with torch.no_grad():\n",
        "    logits = model(**inputs).logits\n",
        "\n",
        "  top_label = torch.IntTensor.item(torch.argmax(logits, axis = -1))\n",
        "  return labels[top_label]"
      ]
    },
    {
      "cell_type": "code",
      "source": [
        "get_predicted_labels(test_cv)"
      ],
      "metadata": {
        "colab": {
          "base_uri": "https://localhost:8080/",
          "height": 53
        },
        "id": "lFIT5VhAeeq_",
        "outputId": "3eef3c06-da53-4343-c4ac-f5d1fcff79b8"
      },
      "execution_count": null,
      "outputs": [
        {
          "output_type": "stream",
          "name": "stdout",
          "text": [
            "4\n"
          ]
        },
        {
          "output_type": "execute_result",
          "data": {
            "text/plain": [
              "'Python_Developer'"
            ],
            "application/vnd.google.colaboratory.intrinsic+json": {
              "type": "string"
            }
          },
          "metadata": {},
          "execution_count": 14
        }
      ]
    },
    {
      "cell_type": "markdown",
      "metadata": {
        "id": "7eca3659"
      },
      "source": [
        "## **Demo**"
      ]
    },
    {
      "cell_type": "code",
      "execution_count": null,
      "metadata": {
        "id": "cd1f4fe0"
      },
      "outputs": [],
      "source": [
        "test_cv = [\"I am a python developer.\", \"I am a project manager.\"]\n",
        "test_cl = [\"Dear Hiring Manager,\\n\\nI am writing to express my interest in the Data Scientist position at XYZ Analytics Solutions. With my strong background in data analysis and experience in implementing digital analytics solutions, I believe I would be a valuable asset to your team.\\n\\nIn my current role as a Data Scientist at XYZ Analytics Solutions, I have successfully built out the process and templates for Adobe Audience Manager implementations, and trained team members to effectively use them. I have a deep understanding of the digital analytics space and have architectured and implemented digital analytics solutions for various websites and mobile applications. Additionally, I have extensive experience in customizing digital analytics solutions within the Adobe Analytics Cloud.\\n\\nI am highly skilled in implementing digital marketing, analytics, and other tags through Tag Management Systems, utilizing my advanced JavaScript skills. I have also gained expertise in data science, including data classification, data mining, and forecasting using machine learning capabilities in Adobe Analytics. Furthermore, I am proficient in querying data pipelines, analyzing and visualizing data with tools like Tableau, and designing tests to optimize user experience and business outcomes.\\n\\nWith my strong programming skills in Java, SQL, R, Python, and experience building data pipelines, I am confident in my ability to support the development team through the coding process and ensure successful implementation as outlined in the technical instructions.\\n\\nThank you for considering my application. I am excited about the opportunity to contribute to XYZ Analytics Solutions and further enhance my skills\",\n",
        "           \"Dear Hiring Manager,\\n\\nI am writing to express my interest in the Data Scientist position at XYZ Analytics. With my strong background in Data Science and Machine Learning, I believe I am wellsuited for this role.\\n\\nIn my current position as a Data Scientist at XYZ Corporation, I have successfully led analytic approaches and integrated solutions into applications and tools with various stakeholders. I am passionate about sharing my knowledge and have actively contributed to the broader enterprise community by identifying and developing longterm processes, frameworks, tools, methods, and standards.\\n\\nI have a proven track record of creating repeatable, interpretable, dynamic, and scalable models that seamlessly incorporate into analytic data products. Additionally, I have advocated for datadriven decision making and have a deep understanding of the 'how and why' of solutioning.\\n\\nI am highly skilled in using data visualization tools such as Tableau and Power BI to effectively communicate the analytics approach and address objectives to business partners. My exceptional communication and collaboration skills have allowed me to understand business partner needs and deliver innovative solutions utilizing cuttingedge techniques and tools.\\n\\nWith my 4+ years of experience in Data Science and a Master's Degree in Data Science, I am confident in my ability to contribute to the success of XYZ Analytics. I am excited about the opportunity to join your growing team of experienced Data Scientists and contribute to the development of innovative solutions.\\n\\nThank you for considering my application. I look forward to the opportunity to discuss how my skills and qualifications align with the requirements of the position.\\n\\nSincerely,\\nJohn Smith\"]\n"
      ]
    },
    {
      "cell_type": "code",
      "execution_count": null,
      "metadata": {
        "id": "f3d9d53c",
        "colab": {
          "base_uri": "https://localhost:8080/",
          "height": 159
        },
        "outputId": "61110385-0167-42d7-a43d-f338979bbff9"
      },
      "outputs": [
        {
          "output_type": "error",
          "ename": "NameError",
          "evalue": "name 'client' is not defined",
          "traceback": [
            "\u001b[0;31m---------------------------------------------------------------------------\u001b[0m",
            "\u001b[0;31mNameError\u001b[0m                                 Traceback (most recent call last)",
            "\u001b[0;32m<ipython-input-7-1b045632f38d>\u001b[0m in \u001b[0;36m<cell line: 1>\u001b[0;34m()\u001b[0m\n\u001b[0;32m----> 1\u001b[0;31m \u001b[0mcl_summary\u001b[0m\u001b[0;34m,\u001b[0m \u001b[0mpredicted_labels\u001b[0m \u001b[0;34m=\u001b[0m \u001b[0mCV_label_CL_Summary\u001b[0m\u001b[0;34m(\u001b[0m\u001b[0mtest_cv\u001b[0m\u001b[0;34m,\u001b[0m \u001b[0mtest_cl\u001b[0m\u001b[0;34m,\u001b[0m\u001b[0mclient\u001b[0m\u001b[0;34m)\u001b[0m\u001b[0;34m\u001b[0m\u001b[0;34m\u001b[0m\u001b[0m\n\u001b[0m",
            "\u001b[0;31mNameError\u001b[0m: name 'client' is not defined"
          ]
        }
      ],
      "source": [
        "cl_summary, predicted_labels = CV_label_CL_Summary(test_cv, test_cl,client)"
      ]
    },
    {
      "cell_type": "code",
      "execution_count": null,
      "metadata": {
        "id": "7e51732b"
      },
      "outputs": [],
      "source": [
        "cl_summary"
      ]
    },
    {
      "cell_type": "code",
      "execution_count": null,
      "metadata": {
        "id": "fb3c36be"
      },
      "outputs": [],
      "source": [
        "predicted_labels"
      ]
    }
  ]
}